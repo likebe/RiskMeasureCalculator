{
 "cells": [
  {
   "cell_type": "code",
   "execution_count": 62,
   "metadata": {
    "collapsed": true
   },
   "outputs": [
    {
     "name": "stdout",
     "output_type": "stream",
     "text": [
      "No options listed for given date, using 15-01-2021 instead\nNo option for given strike, using 270 instead\n"
     ]
    },
    {
     "name": "stdout",
     "output_type": "stream",
     "text": [
      "Put(ticker=AAPL, expiration=15-01-2021, strike=270)\n"
     ]
    },
    {
     "name": "stdout",
     "output_type": "stream",
     "text": [
      "No options listed for given date, using 15-01-2021 instead\n"
     ]
    },
    {
     "name": "stdout",
     "output_type": "stream",
     "text": [
      "No option for given strike, using 350 instead\nPut(ticker=TSLA, expiration=15-01-2021, strike=350)\n"
     ]
    },
    {
     "data": {
      "text/plain": [
       "[0.26357883200478627, 0.46642595360293915]"
      ]
     },
     "execution_count": 63,
     "metadata": {},
     "output_type": "execute_result"
    }
   ],
   "source": [
    "import pandas_datareader.data as web\n",
    "import matplotlib.pyplot as plt\n",
    "from datetime import datetime\n",
    "import pandas as pd\n",
    "#from yahoo_fin import options\n",
    "from pandas_datareader import Options\n",
    "import wallstreet as ws\n",
    "\n",
    "tickers = ['AAPL', 'MSFT', '^GSPC']\n",
    "\n",
    "start_date = '2010-01-01'\n",
    "end_date = '2019-12-06'\n",
    "\n",
    "df = web.DataReader(tickers, 'yahoo', start_date, end_date)\n",
    "\n",
    "def get_data_from_Yahoo (stock_tickers = [],start_date = None, end_date = None):\n",
    "\t\n",
    "\tdata = web.DataReader(stock_tickers, 'yahoo', start_date, end_date)\n",
    "\t\n",
    "\treturn data[\"Adj Close\"].sort_index(ascending = False)\n",
    "\n",
    "print(get_data_from_Yahoo(tickers, start_date = start_date, end_date = end_date))\n"
   ]
  },
  {
   "cell_type": "code",
   "execution_count": 63,
   "metadata": {
    "collapsed": true
   },
   "outputs": [
    {
     "name": "stdout",
     "output_type": "stream",
     "text": [
      "No options listed for given date, using 15-01-2021 instead\nNo option for given strike, using 270 instead\n"
     ]
    },
    {
     "name": "stdout",
     "output_type": "stream",
     "text": [
      "Put(ticker=AAPL, expiration=15-01-2021, strike=270)\n"
     ]
    },
    {
     "name": "stdout",
     "output_type": "stream",
     "text": [
      "No options listed for given date, using 15-01-2021 instead\n"
     ]
    },
    {
     "name": "stdout",
     "output_type": "stream",
     "text": [
      "No option for given strike, using 350 instead\nPut(ticker=TSLA, expiration=15-01-2021, strike=350)\n"
     ]
    },
    {
     "data": {
      "text/plain": [
       "[0.26357883200478627, 0.46642595360293915]"
      ]
     },
     "execution_count": 63,
     "metadata": {},
     "output_type": "execute_result"
    }
   ],
   "source": [
    "\n",
    "def get_implied_vol(options_tickers = []):\n",
    "\t\n",
    "\tnow = datetime.now() # current date and time\n",
    "\tyear = int(now.strftime(\"%Y\"))\n",
    "\tmonth = int(now.strftime(\"%m\"))\n",
    "\tday = int( now.strftime(\"%d\") )\n",
    "\n",
    "\timplied_vol = []\n",
    "\tfor i in range(len(options_tickers)):\n",
    "\t\tstock = ws.Stock(options_tickers[i])\n",
    "\t\tput = ws.Put(options_tickers[i], d=day, m=month, y=(year+1), strike=stock.price)\n",
    "\t\tprint(put)\n",
    "\t\timplied_vol.append( put.implied_volatility() )\n",
    "\t\n",
    "\treturn implied_vol\n",
    "\n",
    "get_implied_vol(options_tickers=['aapl', 'tsla'])\n"
   ]
  },
  {
   "cell_type": "code",
   "execution_count": 57,
   "metadata": {},
   "outputs": [
    {
     "name": "stdout",
     "output_type": "stream",
     "text": [
      "year: 2019\nmonth: 12\nday: 11\n"
     ]
    }
   ],
   "source": [
    "\n"
   ]
  },
  {
   "cell_type": "code",
   "execution_count": null,
   "metadata": {},
   "outputs": [],
   "source": []
  }
 ],
 "metadata": {
  "kernelspec": {
   "display_name": "Python 2",
   "language": "python",
   "name": "python2"
  },
  "language_info": {
   "codemirror_mode": {
    "name": "ipython",
    "version": 2
   },
   "file_extension": ".py",
   "mimetype": "text/x-python",
   "name": "python",
   "nbconvert_exporter": "python",
   "pygments_lexer": "ipython2",
   "version": "2.7.6"
  }
 },
 "nbformat": 4,
 "nbformat_minor": 0
}
